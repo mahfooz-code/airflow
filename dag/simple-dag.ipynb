{
 "cells": [
  {
   "cell_type": "code",
   "execution_count": 1,
   "metadata": {},
   "outputs": [],
   "source": [
    "from airflow.models import DAG"
   ]
  },
  {
   "cell_type": "code",
   "execution_count": 2,
   "metadata": {
    "collapsed": false,
    "pycharm": {
     "name": "#%%\n"
    }
   },
   "outputs": [],
   "source": [
    "from datetime import datetime\n",
    "from airflow.providers.sqlite.operators.sqlite import SqliteOperator"
   ]
  },
  {
   "cell_type": "code",
   "execution_count": 8,
   "metadata": {},
   "outputs": [],
   "source": [
    "default_args = {\n",
    "    'start_date': datetime(2022, 1, 1)\n",
    "}"
   ]
  },
  {
   "cell_type": "code",
   "execution_count": 9,
   "metadata": {},
   "outputs": [],
   "source": [
    "with DAG(\"user_processing\", schedule_interval=\"@daily\",start_date=datetime(2022, 1, 1)) as dag:\n",
    "    creating_table=SqliteOperator(\n",
    "    task_id='creating_table',\n",
    "    sqlite_conn_id='db_sqlite',\n",
    "    sql='''\n",
    "    create table users(\n",
    "    firstname text not null,\n",
    "    lastname text not null,\n",
    "    country text not null,\n",
    "    username text not null,\n",
    "    password text not null,\n",
    "    email text not null primary  key );\n",
    "    '''\n",
    "    )"
   ]
  }
 ],
 "metadata": {
  "interpreter": {
   "hash": "31b47da1d5445681791cd90c36f6271c664e3e3726decea88839edca783a4f59"
  },
  "kernelspec": {
   "display_name": "Python 3.10.1 64-bit ('ds10': conda)",
   "language": "python",
   "name": "python3"
  },
  "language_info": {
   "codemirror_mode": {
    "name": "ipython",
    "version": 3
   },
   "file_extension": ".py",
   "mimetype": "text/x-python",
   "name": "python",
   "nbconvert_exporter": "python",
   "pygments_lexer": "ipython3",
   "version": "3.8.10"
  },
  "orig_nbformat": 4
 },
 "nbformat": 4,
 "nbformat_minor": 2
}
