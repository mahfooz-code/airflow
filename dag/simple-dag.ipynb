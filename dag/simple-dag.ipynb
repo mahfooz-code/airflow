{
 "cells": [
  {
   "cell_type": "code",
   "execution_count": 1,
   "metadata": {},
   "outputs": [],
   "source": [
    "from airflow.models import DAG"
   ]
  },
  {
   "cell_type": "code",
   "execution_count": 6,
   "metadata": {
    "collapsed": false,
    "pycharm": {
     "name": "#%%\n"
    }
   },
   "outputs": [],
   "source": [
    "from datetime import datetime\n",
    "from airflow.providers.sqlite.operators.sqlite import SqliteOperator"
   ]
  },
  {
   "cell_type": "code",
   "execution_count": 3,
   "metadata": {},
   "outputs": [],
   "source": [
    "default_args={\n",
    "'start_date':datetime(2020,1,1)\n",
    "}"
   ]
  },
  {
   "cell_type": "code",
   "execution_count": 5,
   "metadata": {},
   "outputs": [
    {
     "ename": "SyntaxError",
     "evalue": "unexpected EOF while parsing (<ipython-input-5-0826158fe3ab>, line 1)",
     "output_type": "error",
     "traceback": [
      "\u001b[0;36m  File \u001b[0;32m\"<ipython-input-5-0826158fe3ab>\"\u001b[0;36m, line \u001b[0;32m1\u001b[0m\n\u001b[0;31m    with DAG ('user_processing',scheduled_interval='@daliy', default_args=default_args, catchup=False) as dag:\u001b[0m\n\u001b[0m                                                                                                              ^\u001b[0m\n\u001b[0;31mSyntaxError\u001b[0m\u001b[0;31m:\u001b[0m unexpected EOF while parsing\n"
     ]
    }
   ],
   "source": [
    "with DAG ('user_processing',scheduled_interval='@daliy', default_args=default_args, catchup=False) as dag:\n",
    "    creating_table=SqliteOperator(\n",
    "    task_id='creating_table',\n",
    "    sqlite_connection_id='db_sqlite',\n",
    "    sql='''\n",
    "    create table users(\n",
    "    firstname text not null,\n",
    "    lastname text not null,\n",
    "    country text not null,\n",
    "    username text not null,\n",
    "    password text not null,\n",
    "    email text not null primary  key );\n",
    "    '''\n",
    "    )"
   ]
  }
 ],
 "metadata": {
  "interpreter": {
   "hash": "31b47da1d5445681791cd90c36f6271c664e3e3726decea88839edca783a4f59"
  },
  "kernelspec": {
   "display_name": "Python 3.10.1 64-bit ('ds10': conda)",
   "language": "python",
   "name": "python3"
  },
  "language_info": {
   "codemirror_mode": {
    "name": "ipython",
    "version": 3
   },
   "file_extension": ".py",
   "mimetype": "text/x-python",
   "name": "python",
   "nbconvert_exporter": "python",
   "pygments_lexer": "ipython3",
   "version": "3.8.10"
  },
  "orig_nbformat": 4
 },
 "nbformat": 4,
 "nbformat_minor": 2
}
